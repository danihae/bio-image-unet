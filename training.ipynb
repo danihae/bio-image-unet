{
 "cells": [
  {
   "cell_type": "code",
   "execution_count": null,
   "source": [
    "# load package\n",
    "from package import *"
   ],
   "outputs": [],
   "metadata": {}
  },
  {
   "cell_type": "markdown",
   "source": [
    "## Notebook for U-Net training and prediction"
   ],
   "metadata": {}
  },
  {
   "cell_type": "markdown",
   "source": [
    "### Training"
   ],
   "metadata": {}
  },
  {
   "cell_type": "code",
   "execution_count": null,
   "source": [
    "# path to training data (images and labels with identical names in separate folders)\n",
    "dir_images = 'E:/dorsal-closure-analysis/training_data/amnioserosa/old_scope/image/'\n",
    "dir_masks = 'E:/dorsal-closure-analysis/training_data/amnioserosa/old_scope/label/'\n",
    "data_path = './data/'\n",
    "# E:/sarcomere_analysis/ate training data set\n",
    "data = DataProcess([dir_images, dir_masks], data_path=data_path, create=True, dilate_mask=2, skeletonize=False, noise_amp=0, brightness_contrast=(0.15, 0.15), aug_factor=10, invert=True, clip_thres=(0., 99.8), dim_out=(256, 256), shiftscalerotate=(0, 0, 0), rescale=None)"
   ],
   "outputs": [],
   "metadata": {}
  },
  {
   "cell_type": "code",
   "execution_count": null,
   "source": [
    "# choose model\n",
    "model = Unet\n",
    "# create trainer\n",
    "training = Trainer(model, data,num_epochs=400 ,batch_size=10, load_weights=None, lr=0.001, n_filter=32, save_iter=True, save_dir='F:temp/20210715_AS_old_scope_Unet_bce_dice_1_1_invert_dilate_square2/', bce_dice=(1, 1))\n",
    "# start training\n",
    "test_data_path =  'E:/dorsal-closure-analysis/test_data/AS_old_scope/'\n",
    "result_path = 'C:Users/dhaertter/Desktop/training_AS_old_scope/20210715_Unet_bce_dice_1_1_invert_dilate_square2/'\n",
    "os.makedirs(result_path, exist_ok=True)\n",
    "training.start(test_data_path=test_data_path, result_path=result_path)"
   ],
   "outputs": [],
   "metadata": {}
  },
  {
   "cell_type": "markdown",
   "source": [
    "### Prediction"
   ],
   "metadata": {}
  },
  {
   "cell_type": "code",
   "execution_count": null,
   "source": [
    "# predict file \n",
    "tif_file = 'E:/gardel_junctions/videos/s13.tif'\n",
    "result_file = 'E:/gardel_junctions/videos/s13res_UNet_background_4.tif'\n",
    "network = Unet\n",
    "weights = 'F:temp/20210714_gardel_Unet_bce_dice_1_1_background_4/model.pth'\n",
    "predict = Predict(tif_file, result_file, network, weights, invert=False, resize_dim=(2048, 2048), n_filter=32, clip_thres=(0., 99.8), normalize_result=True)"
   ],
   "outputs": [],
   "metadata": {}
  },
  {
   "cell_type": "code",
   "execution_count": null,
   "source": [
    "# predict all files in folder with u-net models at each epoch\n",
    "folder_image = 'C:/Users/dhaertter/Desktop/new_training_amnioserosa/20210410_amnioserosa_bcedice/'\n",
    "files = glob.glob(folder_image + '*.tif')\n",
    "folder_dest = 'C:/Users/dhaertter/Desktop/new_training_amnioserosa/20210410_nodes_bcedice/'\n",
    "os.makedirs(folder_dest, exist_ok=True)\n",
    "\n",
    "for e in np.arange(50, 80):\n",
    "    model = f'F:/temp/20210410_nodes/model_epoch_{e}.pth'\n",
    "    for i, file in enumerate(files[:10]):\n",
    "        p = Predict(file, folder_dest + os.path.basename(file) + f'_epoch_{e}.tif', model, resize_dim=(1024+256, 1024+512), invert=False)"
   ],
   "outputs": [],
   "metadata": {}
  },
  {
   "cell_type": "code",
   "execution_count": null,
   "source": [
    "file = '../dorsal-closure-analysis/test_data/21B11-shgGFP-kin-18-bro4.tif kept stack.tif'\n",
    "file_out = file[:-4] + '_new_dice.tif'\n",
    "Predict('../dorsal-closure-analysis/test_data/21B11-shgGFP-kin-18-bro4.tif kept stack.tif', file_out, f'F:/temp/20210406_amnioserosa_bce_dice/model.pth', resize_dim=(1024+256, 1024+512))"
   ],
   "outputs": [],
   "metadata": {}
  },
  {
   "cell_type": "code",
   "execution_count": null,
   "source": [
    "file_out = file[:-4] + '_old.tif'\n",
    "Predict('../dorsal-closure-analysis/test_data/21B11-shgGFP-kin-18-bro4.tif kept stack.tif', file_out, '../dorsal-closure-analysis/trained_networks/pytorch/yokogawa/model_amnioserosa.pth', resize_dim=(1024+256, 1024+512))"
   ],
   "outputs": [],
   "metadata": {}
  },
  {
   "cell_type": "code",
   "execution_count": null,
   "source": [
    "'../dorsal-closure-analysis/training_data/'"
   ],
   "outputs": [],
   "metadata": {}
  }
 ],
 "metadata": {
  "kernelspec": {
   "display_name": "Python 3",
   "language": "python",
   "name": "python3"
  },
  "language_info": {
   "codemirror_mode": {
    "name": "ipython",
    "version": 3
   },
   "file_extension": ".py",
   "mimetype": "text/x-python",
   "name": "python",
   "nbconvert_exporter": "python",
   "pygments_lexer": "ipython3",
   "version": "3.7.9"
  }
 },
 "nbformat": 4,
 "nbformat_minor": 4
}